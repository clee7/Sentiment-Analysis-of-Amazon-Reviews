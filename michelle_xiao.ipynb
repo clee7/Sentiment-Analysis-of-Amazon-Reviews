{
 "cells": [
  {
   "cell_type": "code",
   "execution_count": 41,
   "metadata": {},
   "outputs": [],
   "source": [
    "import numpy as np\n",
    "import tensorflow as tf \n",
    "import keras\n",
    "from keras.models import Sequential\n",
    "from keras.layers.core import Dense, Activation, Flatten, Dropout"
   ]
  },
  {
   "cell_type": "code",
   "execution_count": 42,
   "metadata": {},
   "outputs": [],
   "source": [
    "def load_data(filename, skiprows = 1):\n",
    "    \"\"\"\n",
    "    Function loads data stored in the file filename and returns it as a numpy ndarray.\n",
    "    \n",
    "    Inputs:\n",
    "        filename: given as a string.\n",
    "        \n",
    "    Outputs:\n",
    "        Data contained in the file, returned as a numpy ndarray\n",
    "    \"\"\"\n",
    "    return np.loadtxt(filename, skiprows=skiprows, delimiter=' ')"
   ]
  },
  {
   "cell_type": "code",
   "execution_count": 43,
   "metadata": {},
   "outputs": [],
   "source": [
    "# Loads training dataset\n",
    "training = load_data('data/training_data.txt', 1)\n",
    "X_train = training[:, 1:]\n",
    "Y_train = training[:,0]"
   ]
  },
  {
   "cell_type": "code",
   "execution_count": 44,
   "metadata": {},
   "outputs": [],
   "source": [
    "# Loads testing dataset\n",
    "# There is no label for testing set \n",
    "X_test = load_data('data/test_data.txt', 1)"
   ]
  },
  {
   "cell_type": "code",
   "execution_count": 45,
   "metadata": {},
   "outputs": [],
   "source": [
    "# Converting Y values to one hot vector\n",
    "num_classes = 2\n",
    "Y_train = keras.utils.to_categorical(Y_train, num_classes=num_classes)\n"
   ]
  },
  {
   "cell_type": "code",
   "execution_count": 46,
   "metadata": {},
   "outputs": [],
   "source": [
    "# Input size\n",
    "n_train = X_train.shape[0]\n",
    "n_words = X_train.shape[1]\n",
    "n_test = Y_train.shape[0]\n"
   ]
  },
  {
   "cell_type": "code",
   "execution_count": 48,
   "metadata": {
    "scrolled": false
   },
   "outputs": [
    {
     "name": "stdout",
     "output_type": "stream",
     "text": [
      "_________________________________________________________________\n",
      "Layer (type)                 Output Shape              Param #   \n",
      "=================================================================\n",
      "dense_31 (Dense)             (None, 200)               200200    \n",
      "_________________________________________________________________\n",
      "activation_31 (Activation)   (None, 200)               0         \n",
      "_________________________________________________________________\n",
      "dropout_26 (Dropout)         (None, 200)               0         \n",
      "_________________________________________________________________\n",
      "dense_32 (Dense)             (None, 100)               20100     \n",
      "_________________________________________________________________\n",
      "activation_32 (Activation)   (None, 100)               0         \n",
      "_________________________________________________________________\n",
      "dropout_27 (Dropout)         (None, 100)               0         \n",
      "_________________________________________________________________\n",
      "dense_33 (Dense)             (None, 50)                5050      \n",
      "_________________________________________________________________\n",
      "activation_33 (Activation)   (None, 50)                0         \n",
      "_________________________________________________________________\n",
      "dropout_28 (Dropout)         (None, 50)                0         \n",
      "_________________________________________________________________\n",
      "dense_34 (Dense)             (None, 2)                 102       \n",
      "_________________________________________________________________\n",
      "activation_34 (Activation)   (None, 2)                 0         \n",
      "=================================================================\n",
      "Total params: 225,452\n",
      "Trainable params: 225,452\n",
      "Non-trainable params: 0\n",
      "_________________________________________________________________\n",
      "Epoch 1/10\n",
      "20000/20000 [==============================] - 2s 92us/step - loss: 0.4305 - acc: 0.8055\n",
      "Epoch 2/10\n",
      "20000/20000 [==============================] - 1s 73us/step - loss: 0.3168 - acc: 0.8686\n",
      "Epoch 3/10\n",
      "20000/20000 [==============================] - 2s 76us/step - loss: 0.2653 - acc: 0.8941\n",
      "Epoch 4/10\n",
      "20000/20000 [==============================] - 2s 79us/step - loss: 0.2153 - acc: 0.9161\n",
      "Epoch 5/10\n",
      "20000/20000 [==============================] - 1s 75us/step - loss: 0.1594 - acc: 0.9425\n",
      "Epoch 6/10\n",
      "20000/20000 [==============================] - 1s 70us/step - loss: 0.1111 - acc: 0.9615\n",
      "Epoch 7/10\n",
      "20000/20000 [==============================] - 1s 68us/step - loss: 0.0744 - acc: 0.9754\n",
      "Epoch 8/10\n",
      "20000/20000 [==============================] - 1s 69us/step - loss: 0.0503 - acc: 0.9852\n",
      "Epoch 9/10\n",
      "20000/20000 [==============================] - 1s 69us/step - loss: 0.0335 - acc: 0.9893\n",
      "Epoch 10/10\n",
      "20000/20000 [==============================] - 1s 67us/step - loss: 0.0280 - acc: 0.9918\n"
     ]
    }
   ],
   "source": [
    "## Create your own model here given the constraints in the problem\n",
    "model = Sequential()\n",
    "model.add(Dense(200, input_shape=(n_words,)))\n",
    "model.add(Activation('relu'))\n",
    "model.add(Dropout(0.15))\n",
    "\n",
    "model.add(Dense(100, input_shape=(n_words,)))\n",
    "model.add(Activation('relu'))\n",
    "model.add(Dropout(0.15))\n",
    "\n",
    "model.add(Dense(50, input_shape=(n_words,)))\n",
    "model.add(Activation('relu'))\n",
    "model.add(Dropout(0.15))\n",
    "\n",
    "## Once you one-hot encode the data labels, the line below should be predicting probabilities of each of the 2 classes\n",
    "\n",
    "model.add(Dense(2))\n",
    "model.add(Activation('softmax'))\n",
    "\n",
    "## Printing a summary of the layers and weights in your model\n",
    "model.summary()\n",
    "\n",
    "## In the line below we have specified the loss function as 'mse' (Mean Squared Error) because in the above code we did not one-hot encode the labels.\n",
    "## In your implementation, since you are one-hot encoding the labels, you should use 'categorical_crossentropy' as your loss.\n",
    "## You will likely have the best results with RMS prop or Adam as your optimizer.  In the line below we use Adadelta\n",
    "model.compile(loss='categorical_crossentropy',optimizer='RMSprop', metrics=['accuracy'])\n",
    "\n",
    "fit = model.fit(X_train, Y_train, batch_size=128, epochs=10,\n",
    "    verbose=1)"
   ]
  },
  {
   "cell_type": "code",
   "execution_count": 49,
   "metadata": {},
   "outputs": [
    {
     "name": "stdout",
     "output_type": "stream",
     "text": [
      "Test score: 0.0053239238737500276\n",
      "Test accuracy: 0.99905\n"
     ]
    }
   ],
   "source": [
    "## Printing the accuracy of our model, according to the loss function specified in model.compile above\n",
    "score = model.evaluate(X_train, Y_train, verbose=0)\n",
    "print('Test score:', score[0])\n",
    "print('Test accuracy:', score[1])"
   ]
  },
  {
   "cell_type": "code",
   "execution_count": null,
   "metadata": {},
   "outputs": [],
   "source": [
    "prediction = model.predict(X_test, verbose=1)\n",
    "print(prediction)\n",
    "\n",
    "zeros = prediction[:, 0]\n",
    "ones  = prediction[:, 1]\n",
    "\n",
    "prediction = (zeros < ones).astype(int)\n",
    "\n",
    "print(prediction)\n",
    "print(\"prediction shape is: {}\".format(prediction.shape))\n",
    "\n",
    "output = \"Id,Prediction\\n\"\n",
    "for i in range(prediction.shape[0]):\n",
    "    output = output + (\"{0},{1}\\n\".format(i + 1, prediction[i]))\n",
    "\n",
    "file = open('predictions.csv','w') \n",
    "file.write(output)\n",
    "file.close()\n"
   ]
  },
  {
   "cell_type": "code",
   "execution_count": null,
   "metadata": {},
   "outputs": [],
   "source": []
  }
 ],
 "metadata": {
  "kernelspec": {
   "display_name": "Python 3",
   "language": "python",
   "name": "python3"
  },
  "language_info": {
   "codemirror_mode": {
    "name": "ipython",
    "version": 3
   },
   "file_extension": ".py",
   "mimetype": "text/x-python",
   "name": "python",
   "nbconvert_exporter": "python",
   "pygments_lexer": "ipython3",
   "version": "3.5.1"
  }
 },
 "nbformat": 4,
 "nbformat_minor": 2
}
