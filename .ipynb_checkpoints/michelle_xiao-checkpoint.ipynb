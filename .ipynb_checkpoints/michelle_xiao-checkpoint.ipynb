{
 "cells": [
  {
   "cell_type": "code",
   "execution_count": 1,
   "metadata": {},
   "outputs": [
    {
     "name": "stderr",
     "output_type": "stream",
     "text": [
      "Using TensorFlow backend.\n"
     ]
    }
   ],
   "source": [
    "import numpy as np\n",
    "\n",
    "import tensorflow as tf \n",
    "\n",
    "from sklearn import linear_model\n",
    "\n",
    "import keras\n",
    "from keras.models import Sequential\n",
    "from keras.layers.core import Dense, Activation, Flatten, Dropout"
   ]
  },
  {
   "cell_type": "code",
   "execution_count": 2,
   "metadata": {},
   "outputs": [],
   "source": [
    "def load_data(filename, skiprows = 1):\n",
    "    \"\"\"\n",
    "    Function loads data stored in the file filename and returns it as a numpy ndarray.\n",
    "    \n",
    "    Inputs:\n",
    "        filename: given as a string.\n",
    "        \n",
    "    Outputs:\n",
    "        Data contained in the file, returned as a numpy ndarray\n",
    "    \"\"\"\n",
    "    return np.loadtxt(filename, skiprows=skiprows, delimiter=' ')"
   ]
  },
  {
   "cell_type": "code",
   "execution_count": 3,
   "metadata": {},
   "outputs": [
    {
     "ename": "SyntaxError",
     "evalue": "invalid syntax (<ipython-input-3-e5b8b7ceaab7>, line 1)",
     "output_type": "error",
     "traceback": [
      "\u001b[1;36m  File \u001b[1;32m\"<ipython-input-3-e5b8b7ceaab7>\"\u001b[1;36m, line \u001b[1;32m1\u001b[0m\n\u001b[1;33m    def ClassifyWithNeuralNetwork(X_train, Y_train, X_test) {\u001b[0m\n\u001b[1;37m                                                            ^\u001b[0m\n\u001b[1;31mSyntaxError\u001b[0m\u001b[1;31m:\u001b[0m invalid syntax\n"
     ]
    }
   ],
   "source": [
    "def ClassifyWithNeuralNetwork(X_train, Y_train, X_test):\n",
    "    \"\"\"\n",
    "    Function takes training and testing data, and fits using our neural network implementation\n",
    "    \n",
    "    Inputs:\n",
    "        X_train: The training data\n",
    "        Y_train: The training data labels\n",
    "        X_test:  The testing data\n",
    "        \n",
    "    Outputs:\n",
    "        prediction: a nparray with shape (X_test.shape[0], ) containing the predicted labels our model generated\n",
    "    \"\"\"\n",
    "    \n",
    "    # Converting Y values to one hot vector\n",
    "    num_classes = 2\n",
    "    Y_train = keras.utils.to_categorical(Y_train, num_classes=num_classes)\n",
    "    \n",
    "    # Input size\n",
    "    n_train = X_train.shape[0]\n",
    "    n_words = X_train.shape[1]\n",
    "    n_test = Y_train.shape[0]\n",
    "    \n",
    "    # Layer set up.\n",
    "    model = Sequential()\n",
    "    model.add(Dense(200, input_shape=(n_words,)))\n",
    "    model.add(Activation('relu'))\n",
    "    model.add(Dropout(0.15))\n",
    "\n",
    "    model.add(Dense(100, input_shape=(n_words,)))\n",
    "    model.add(Activation('relu'))\n",
    "    model.add(Dropout(0.15))\n",
    "\n",
    "    model.add(Dense(50, input_shape=(n_words,)))\n",
    "    model.add(Activation('relu'))\n",
    "    model.add(Dropout(0.15))\n",
    "\n",
    "    model.add(Dense(num_classes))\n",
    "    model.add(Activation('softmax'))\n",
    "\n",
    "    ## Printing a summary of the layers and weights in your model\n",
    "    model.summary()\n",
    "\n",
    "    ## In the line below we have specified the loss function as 'mse' (Mean Squared Error) because in the above code we did not one-hot encode the labels.\n",
    "    ## In your implementation, since you are one-hot encoding the labels, you should use 'categorical_crossentropy' as your loss.\n",
    "    ## You will likely have the best results with RMS prop or Adam as your optimizer.  In the line below we use Adadelta\n",
    "    model.compile(loss='categorical_crossentropy',optimizer='RMSprop', metrics=['accuracy'])\n",
    "\n",
    "    fit = model.fit(X_train, Y_train, batch_size=128, epochs=10, verbose=1)\n",
    "    \n",
    "    ## Printing the accuracy of our model, according to the loss function specified in model.compile above\n",
    "    score = model.evaluate(X_train, Y_train, verbose=0)\n",
    "    print('Training score:', score[0])\n",
    "    print('Training accuracy:', score[1])\n",
    "\n",
    "    prediction = model.predict(X_test, verbose=1)\n",
    "    print(prediction)\n",
    "\n",
    "    zeros = prediction[:, 0]\n",
    "    ones  = prediction[:, 1]\n",
    "\n",
    "    prediction = (zeros < ones).astype(int)\n",
    "\n",
    "    return prediction\n"
   ]
  },
  {
   "cell_type": "code",
   "execution_count": null,
   "metadata": {},
   "outputs": [],
   "source": [
    "# Loads training dataset\n",
    "training = load_data('data/training_data.txt', 1)\n",
    "X_train = training[:, 1:]\n",
    "Y_train = training[:, 0]"
   ]
  },
  {
   "cell_type": "code",
   "execution_count": null,
   "metadata": {},
   "outputs": [],
   "source": [
    "# Loads testing dataset\n",
    "# There is no label for testing set \n",
    "X_test = load_data('data/test_data.txt', 1)"
   ]
  },
  {
   "cell_type": "code",
   "execution_count": null,
   "metadata": {},
   "outputs": [],
   "source": [
    "prediction = ClassifyWithNeuralNetwork(X_train, Y_train, X_test)"
   ]
  },
  {
   "cell_type": "code",
   "execution_count": null,
   "metadata": {},
   "outputs": [],
   "source": [
    "\n"
   ]
  },
  {
   "cell_type": "code",
   "execution_count": null,
   "metadata": {},
   "outputs": [],
   "source": [
    "print(prediction)\n",
    "print(\"prediction shape is: {}\".format(prediction.shape))\n",
    "\n",
    "output = \"Id,Prediction\\n\"\n",
    "for i in range(prediction.shape[0]):\n",
    "    output = output + (\"{0},{1}\\n\".format(i + 1, prediction[i]))\n",
    "\n",
    "file = open('predictions.csv','w') \n",
    "file.write(output)\n",
    "file.close()\n"
   ]
  },
  {
   "cell_type": "code",
   "execution_count": null,
   "metadata": {},
   "outputs": [],
   "source": []
  }
 ],
 "metadata": {
  "kernelspec": {
   "display_name": "Python 3",
   "language": "python",
   "name": "python3"
  },
  "language_info": {
   "codemirror_mode": {
    "name": "ipython",
    "version": 3
   },
   "file_extension": ".py",
   "mimetype": "text/x-python",
   "name": "python",
   "nbconvert_exporter": "python",
   "pygments_lexer": "ipython3",
   "version": "3.6.4"
  }
 },
 "nbformat": 4,
 "nbformat_minor": 2
}
