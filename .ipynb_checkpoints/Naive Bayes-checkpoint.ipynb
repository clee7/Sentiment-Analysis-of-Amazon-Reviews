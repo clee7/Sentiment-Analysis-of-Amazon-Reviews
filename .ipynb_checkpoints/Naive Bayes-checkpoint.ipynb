{
 "cells": [
  {
   "cell_type": "code",
   "execution_count": 1,
   "metadata": {},
   "outputs": [
    {
     "name": "stderr",
     "output_type": "stream",
     "text": [
      "Using TensorFlow backend.\n"
     ]
    }
   ],
   "source": [
    "# Jenny branch\n",
    "import numpy as np\n",
    "\n",
    "import datetime\n",
    "\n",
    "import tensorflow as tf \n",
    "\n",
    "from sklearn import linear_model, ensemble, tree, svm, naive_bayes\n",
    "\n",
    "import keras\n",
    "from keras.models import Sequential\n",
    "from keras.layers.core import Dense, Activation, Flatten, Dropout\n",
    "from keras.layers import Conv1D, MaxPooling1D, Flatten, BatchNormalization\n",
    "\n",
    "from sklearn.model_selection import KFold\n",
    "\n",
    "import matplotlib.pyplot as plt\n",
    "\n",
    "BORDER = \"====================================================================================\""
   ]
  },
  {
   "cell_type": "code",
   "execution_count": 2,
   "metadata": {},
   "outputs": [],
   "source": [
    "def load_data(filename, skiprows = 1):\n",
    "    \"\"\"\n",
    "    Function loads data stored in the file filename and returns it as a numpy ndarray.\n",
    "    \n",
    "    Inputs:\n",
    "        filename: given as a string.\n",
    "        \n",
    "    Outputs:\n",
    "        Data contained in the file, returned as a numpy ndarray\n",
    "    \"\"\"\n",
    "    return np.loadtxt(filename, skiprows=skiprows, delimiter=' ')"
   ]
  },
  {
   "cell_type": "code",
   "execution_count": 3,
   "metadata": {},
   "outputs": [],
   "source": [
    "def WritePredictionOut(modelName, prediction):\n",
    "    print(prediction)\n",
    "    print(\"prediction shape is: {}\".format(prediction.shape))\n",
    "\n",
    "    output = \"Id,Prediction\\n\"\n",
    "    for i in range(prediction.shape[0]):\n",
    "        output = output + (\"{0},{1}\\n\".format(i + 1, prediction[i].astype(int)))\n",
    "\n",
    "        \n",
    "    now = datetime.datetime.now();\n",
    "        \n",
    "    filename = \"{}_{}.{}.{}_{}.{}.{}_predictions.csv\".format(modelName, now.year, now.month, now.day, now.hour, now.minute, now.second)\n",
    "        \n",
    "    file = open(filename,'w') \n",
    "    file.write(output)\n",
    "    file.close()"
   ]
  },
  {
   "cell_type": "code",
   "execution_count": 31,
   "metadata": {},
   "outputs": [],
   "source": [
    "def ClassifyWithBernoulliNB(X_train, Y_train, X_test, alpha, verbose=0):\n",
    "    \"\"\"\n",
    "    Function takes training and testing data, and fits using logistic regression\n",
    "    \n",
    "    Inputs:\n",
    "        X_train: The training data\n",
    "        Y_train: The training data labels\n",
    "        X_test:  The testing data\n",
    "        \n",
    "    Outputs:\n",
    "        model: passes out the model we trained.\n",
    "        prediction: a nparray with shape (X_test.shape[0], ) containing the predicted labels our model generated\n",
    "        accuracy: training accuracy of model.\n",
    "    \"\"\"\n",
    "    \n",
    "    if (verbose == 1):\n",
    "        print('\\n{}\\nBernoulli Naive Bayes\\n{}\\n'.format(BORDER, BORDER))\n",
    "        \n",
    "    model = naive_bayes.BernoulliNB(alpha=alpha)\n",
    "    model.fit(X_train, Y_train)\n",
    "    \n",
    "    Y_pred = model.predict(X_train)\n",
    "    \n",
    "    correctlyClassified = (Y_pred == Y_train).astype(int);\n",
    "    accuracy = np.sum(correctlyClassified) / correctlyClassified.shape[0]\n",
    "    \n",
    "    if (verbose == 1):\n",
    "        print('Training accuracy: ', accuracy)\n",
    "    \n",
    "    prediction = model.predict(X_test)\n",
    "    return model, prediction, accuracy\n",
    "\n",
    "def ClassifyWithMultinomialNB(X_train, Y_train, X_test, alpha, verbose=0):\n",
    "    \"\"\"\n",
    "    Function takes training and testing data, and fits using logistic regression\n",
    "    \n",
    "    Inputs:\n",
    "        X_train: The training data\n",
    "        Y_train: The training data labels\n",
    "        X_test:  The testing data\n",
    "        \n",
    "    Outputs:\n",
    "        model: passes out the model we trained.\n",
    "        prediction: a nparray with shape (X_test.shape[0], ) containing the predicted labels our model generated\n",
    "        accuracy: training accuracy of model.\n",
    "    \"\"\"\n",
    "    \n",
    "    if (verbose == 1):\n",
    "        print('\\n{}\\nMultinomial Naive Bayes\\n{}\\n'.format(BORDER, BORDER))\n",
    "        \n",
    "    model = naive_bayes.MultinomialNB(alpha=alpha)\n",
    "    model.fit(X_train, Y_train)\n",
    "    \n",
    "    Y_pred = model.predict(X_train)\n",
    "    \n",
    "    correctlyClassified = (Y_pred == Y_train).astype(int);\n",
    "    accuracy = np.sum(correctlyClassified) / correctlyClassified.shape[0]\n",
    "    \n",
    "    if (verbose == 1):\n",
    "        print('Training accuracy: ', accuracy)\n",
    "    \n",
    "    prediction = model.predict(X_test)\n",
    "    return model, prediction, accuracy\n",
    "\n",
    "def ClassifyWithBaggedMultinomialNB(X_train, Y_train, X_test, alpha, verbose=0):\n",
    "    \"\"\"\n",
    "    Function takes training and testing data, and fits using logistic regression\n",
    "    \n",
    "    Inputs:\n",
    "        X_train: The training data\n",
    "        Y_train: The training data labels\n",
    "        X_test:  The testing data\n",
    "        \n",
    "    Outputs:\n",
    "        model: passes out the model we trained.\n",
    "        prediction: a nparray with shape (X_test.shape[0], ) containing the predicted labels our model generated\n",
    "        accuracy: training accuracy of model.\n",
    "    \"\"\"\n",
    "    \n",
    "    if (verbose == 1):\n",
    "        print('\\n{}\\nMultinomial Naive Bayes\\n{}\\n'.format(BORDER, BORDER))\n",
    "    base = naive_bayes.MultinomialNB(alpha=alpha)\n",
    "    \n",
    "    model = ensemble.BaggingClassifier(base_estimator=base, n_estimators=100, verbose=verbose)\n",
    "    model.fit(X_train, Y_train)\n",
    "    \n",
    "    Y_pred = model.predict(X_train)\n",
    "    \n",
    "    correctlyClassified = (Y_pred == Y_train).astype(int);\n",
    "    accuracy = np.sum(correctlyClassified) / correctlyClassified.shape[0]\n",
    "    \n",
    "    if (verbose == 1):\n",
    "        print('Training accuracy: ', accuracy)\n",
    "    \n",
    "    prediction = model.predict(X_test)\n",
    "    return model, prediction, accuracy\n"
   ]
  },
  {
   "cell_type": "code",
   "execution_count": 24,
   "metadata": {},
   "outputs": [],
   "source": [
    "def CrossValidate(modelFunction, X_train, Y_train, X_test, alpha, nFold, verbose=0):\n",
    "    kf = KFold(n_splits = nFold)\n",
    "    inds = [ind for ind in kf.split(X_train, Y_train)]\n",
    "        \n",
    "    total_train_acc = []\n",
    "    total_val_acc = []\n",
    "    \n",
    "    \n",
    "    # perform 5-fold validation\n",
    "    for i in range(0,5):\n",
    "        traini, vali = inds[i]\n",
    "        model, prediction, accuracy = modelFunction(X_train[traini], Y_train[traini], X_test, alpha, verbose=verbose)\n",
    "        \n",
    "        # Compute accuracy.\n",
    "        val_acc = model.score(X_train[vali], Y_train[vali])\n",
    "            \n",
    "        total_train_acc = np.append(total_train_acc, accuracy)\n",
    "        total_val_acc = np.append(total_val_acc, val_acc)\n",
    "\n",
    "#     print(BORDER)\n",
    "#     print(\"CROSS VALIDATION: \" + modelFunction.__name__)\n",
    "#     print(BORDER)\n",
    "#     print(\"training accuracy\", total_train_acc)\n",
    "#     print(\"val accuracy\", total_val_acc)\n",
    "#     print(\"average training accuracy\", np.sum(total_train_acc) / float(nFold))\n",
    "#     print(\"average val accuracy\", np.sum(total_val_acc) / float(nFold))\n",
    "\n",
    "    accuracy = np.sum(total_val_acc) / float(nFold);\n",
    "#     print('{0} -- alpha = {1} -- accuracy = {2}'.format(modelFunction.__name__, alpha, accuracy))\n",
    "    \n",
    "    \n",
    "    return accuracy\n"
   ]
  },
  {
   "cell_type": "code",
   "execution_count": 6,
   "metadata": {},
   "outputs": [],
   "source": [
    "# Loads training dataset\n",
    "training = load_data('data/training_data.txt', 1)\n",
    "X_train = training[:, 1:]\n",
    "Y_train = training[:, 0]"
   ]
  },
  {
   "cell_type": "code",
   "execution_count": 7,
   "metadata": {},
   "outputs": [],
   "source": [
    "# Loads testing dataset\n",
    "# There is no label for testing set \n",
    "X_test = load_data('data/test_data.txt', 1)"
   ]
  },
  {
   "cell_type": "code",
   "execution_count": 32,
   "metadata": {
    "scrolled": false
   },
   "outputs": [
    {
     "name": "stdout",
     "output_type": "stream",
     "text": [
      "\n",
      "====================================================================================\n",
      "Multinomial Naive Bayes\n",
      "====================================================================================\n",
      "\n"
     ]
    },
    {
     "name": "stderr",
     "output_type": "stream",
     "text": [
      "[Parallel(n_jobs=1)]: Done   1 out of   1 | elapsed:   20.8s finished\n",
      "[Parallel(n_jobs=1)]: Done   1 out of   1 | elapsed:   19.8s finished\n"
     ]
    },
    {
     "name": "stdout",
     "output_type": "stream",
     "text": [
      "Training accuracy:  0.8381875\n"
     ]
    },
    {
     "name": "stderr",
     "output_type": "stream",
     "text": [
      "[Parallel(n_jobs=1)]: Done   1 out of   1 | elapsed:   12.2s finished\n",
      "[Parallel(n_jobs=1)]: Done   1 out of   1 | elapsed:    4.8s finished\n"
     ]
    },
    {
     "name": "stdout",
     "output_type": "stream",
     "text": [
      "\n",
      "====================================================================================\n",
      "Multinomial Naive Bayes\n",
      "====================================================================================\n",
      "\n"
     ]
    },
    {
     "name": "stderr",
     "output_type": "stream",
     "text": [
      "[Parallel(n_jobs=1)]: Done   1 out of   1 | elapsed:   20.8s finished\n",
      "[Parallel(n_jobs=1)]: Done   1 out of   1 | elapsed:   19.7s finished\n"
     ]
    },
    {
     "name": "stdout",
     "output_type": "stream",
     "text": [
      "Training accuracy:  0.83775\n"
     ]
    },
    {
     "name": "stderr",
     "output_type": "stream",
     "text": [
      "[Parallel(n_jobs=1)]: Done   1 out of   1 | elapsed:   11.9s finished\n",
      "[Parallel(n_jobs=1)]: Done   1 out of   1 | elapsed:    4.7s finished\n"
     ]
    },
    {
     "name": "stdout",
     "output_type": "stream",
     "text": [
      "\n",
      "====================================================================================\n",
      "Multinomial Naive Bayes\n",
      "====================================================================================\n",
      "\n"
     ]
    },
    {
     "name": "stderr",
     "output_type": "stream",
     "text": [
      "[Parallel(n_jobs=1)]: Done   1 out of   1 | elapsed:   20.5s finished\n",
      "[Parallel(n_jobs=1)]: Done   1 out of   1 | elapsed:   19.8s finished\n"
     ]
    },
    {
     "name": "stdout",
     "output_type": "stream",
     "text": [
      "Training accuracy:  0.839375\n"
     ]
    },
    {
     "name": "stderr",
     "output_type": "stream",
     "text": [
      "[Parallel(n_jobs=1)]: Done   1 out of   1 | elapsed:   12.2s finished\n",
      "[Parallel(n_jobs=1)]: Done   1 out of   1 | elapsed:    4.7s finished\n"
     ]
    },
    {
     "name": "stdout",
     "output_type": "stream",
     "text": [
      "\n",
      "====================================================================================\n",
      "Multinomial Naive Bayes\n",
      "====================================================================================\n",
      "\n"
     ]
    },
    {
     "name": "stderr",
     "output_type": "stream",
     "text": [
      "[Parallel(n_jobs=1)]: Done   1 out of   1 | elapsed:   20.4s finished\n",
      "[Parallel(n_jobs=1)]: Done   1 out of   1 | elapsed:   20.0s finished\n"
     ]
    },
    {
     "name": "stdout",
     "output_type": "stream",
     "text": [
      "Training accuracy:  0.8399375\n"
     ]
    },
    {
     "name": "stderr",
     "output_type": "stream",
     "text": [
      "[Parallel(n_jobs=1)]: Done   1 out of   1 | elapsed:   12.1s finished\n",
      "[Parallel(n_jobs=1)]: Done   1 out of   1 | elapsed:    4.6s finished\n"
     ]
    },
    {
     "name": "stdout",
     "output_type": "stream",
     "text": [
      "\n",
      "====================================================================================\n",
      "Multinomial Naive Bayes\n",
      "====================================================================================\n",
      "\n"
     ]
    },
    {
     "name": "stderr",
     "output_type": "stream",
     "text": [
      "[Parallel(n_jobs=1)]: Done   1 out of   1 | elapsed:   20.2s finished\n",
      "[Parallel(n_jobs=1)]: Done   1 out of   1 | elapsed:   19.4s finished\n"
     ]
    },
    {
     "name": "stdout",
     "output_type": "stream",
     "text": [
      "Training accuracy:  0.839875\n"
     ]
    },
    {
     "name": "stderr",
     "output_type": "stream",
     "text": [
      "[Parallel(n_jobs=1)]: Done   1 out of   1 | elapsed:   11.9s finished\n"
     ]
    },
    {
     "name": "stdout",
     "output_type": "stream",
     "text": [
      "accuracy is 0.8308\n"
     ]
    },
    {
     "name": "stderr",
     "output_type": "stream",
     "text": [
      "[Parallel(n_jobs=1)]: Done   1 out of   1 | elapsed:    4.7s finished\n"
     ]
    }
   ],
   "source": [
    "# Using Validation\n",
    "numIterations = 100\n",
    "\n",
    "alphas = []\n",
    "bernoulliAccuracy = []\n",
    "multinomialAccuracy = []\n",
    "\n",
    "\n",
    "accuracy = CrossValidate(ClassifyWithBaggedMultinomialNB, X_train, Y_train, X_test, 0.01, 5, verbose=1);\n",
    "\n",
    "print (\"accuracy is {}\".format(accuracy));\n",
    "\n",
    "# for i in range(numIterations):\n",
    "#     alpha = (i + 1) * (1 / numIterations)\n",
    "#     alphas.append(alpha)\n",
    "    \n",
    "#     print(\"alpha = {}\".format(alpha))\n",
    "    \n",
    "#     bernoulliAccuracy.append(CrossValidate(ClassifyWithBernoulliNB, X_train, Y_train, X_test, alpha, 5, verbose=0))\n",
    "#     multinomialAccuracy.append(CrossValidate(ClassifyWithMultinomialNB, X_train, Y_train, X_test, alpha, 5, verbose=0))"
   ]
  },
  {
   "cell_type": "code",
   "execution_count": 28,
   "metadata": {},
   "outputs": [
    {
     "name": "stderr",
     "output_type": "stream",
     "text": [
      "c:\\users\\jerry\\anaconda3\\envs\\tensorflow\\lib\\site-packages\\matplotlib\\cbook\\deprecation.py:106: MatplotlibDeprecationWarning: Adding an axes using the same arguments as a previous axes currently reuses the earlier instance.  In a future version, a new instance will always be created and returned.  Meanwhile, this warning can be suppressed, and the future behavior ensured, by passing a unique label to each axes instance.\n",
      "  warnings.warn(message, mplDeprecation, stacklevel=1)\n"
     ]
    },
    {
     "data": {
      "text/plain": [
       "[<matplotlib.lines.Line2D at 0x1db394786a0>]"
      ]
     },
     "execution_count": 28,
     "metadata": {},
     "output_type": "execute_result"
    },
    {
     "data": {
      "image/png": "[encoded data removed]",
      "text/plain": [
       "<matplotlib.figure.Figure at 0x1db39468908>"
      ]
     },
     "metadata": {},
     "output_type": "display_data"
    },
    {
     "data": {
      "image/png": "[encoded data removed]",
      "text/plain": [
       "<matplotlib.figure.Figure at 0x1db38f7b710>"
      ]
     },
     "metadata": {},
     "output_type": "display_data"
    }
   ],
   "source": [
    "bernoulliFig = plt.figure()\n",
    "plt.title(\"Bernoulli NB -- alpha vs accuracy\")\n",
    "plt.xlabel(\"alpha\")\n",
    "plt.ylabel(\"accuracy\")\n",
    "bernoulliAX1 = bernoulliFig.add_subplot(111)\n",
    "bernoulliAX1.plot(alphas, bernoulliAccuracy)\n",
    "\n",
    "\n",
    "multinomialFig = plt.figure()\n",
    "plt.title(\"Multinomial NB -- alpha vs accuracy\")\n",
    "plt.xlabel(\"alpha\")\n",
    "plt.ylabel(\"accuracy\")\n",
    "multinomialAX1 = multinomialFig.add_subplot(111)\n",
    "multinomialAX1.plot(alphas, multinomialAccuracy)"
   ]
  },
  {
   "cell_type": "code",
   "execution_count": 14,
   "metadata": {},
   "outputs": [
    {
     "name": "stdout",
     "output_type": "stream",
     "text": [
      "[0.817, 0.817, 0.817, 0.81705, 0.81705, 0.8171000000000002, 0.8171000000000002, 0.8171000000000002, 0.81705, 0.81705, 0.817, 0.817, 0.817, 0.817, 0.817, 0.817, 0.817, 0.8169500000000001, 0.8169500000000001, 0.8169500000000001, 0.8169000000000001, 0.8169000000000001, 0.81685, 0.81685, 0.81685, 0.8169000000000001, 0.81685, 0.81685, 0.8169000000000001, 0.81685, 0.81685, 0.81685, 0.81685, 0.81685, 0.81685, 0.81685, 0.81685, 0.81685, 0.81685, 0.8168, 0.8167499999999999, 0.8167499999999999, 0.8167499999999999, 0.8167499999999999, 0.8167499999999999, 0.8167499999999999, 0.8167499999999999, 0.8168, 0.8167499999999999, 0.8167, 0.8167, 0.8167, 0.8167, 0.8167, 0.8167, 0.8167, 0.8167, 0.8167, 0.8167, 0.8167, 0.8167, 0.8167, 0.8167, 0.8167, 0.8166499999999999, 0.8167, 0.8167, 0.8167, 0.8167500000000001, 0.8168000000000001, 0.8168500000000002, 0.8168500000000002, 0.8169000000000001, 0.81695, 0.81695, 0.81695, 0.8169000000000001, 0.8169000000000001, 0.8169000000000001, 0.8169000000000001, 0.8169000000000001, 0.81695, 0.8169000000000001, 0.81685, 0.81685, 0.8168, 0.8167499999999999, 0.8167499999999999, 0.8167499999999999, 0.8167499999999999, 0.8167499999999999, 0.8167499999999999, 0.8167499999999999, 0.8167499999999999, 0.8167499999999999, 0.8167, 0.8167, 0.8166500000000001, 0.8166, 0.81655]\n",
      "[0.817, 0.817, 0.817, 0.81705, 0.81705, 0.8171000000000002, 0.8171000000000002, 0.8171000000000002, 0.81705, 0.81705, 0.817, 0.817, 0.817, 0.817, 0.817, 0.817, 0.817, 0.8169500000000001, 0.8169500000000001, 0.8169500000000001, 0.8169000000000001, 0.8169000000000001, 0.81685, 0.81685, 0.81685, 0.8169000000000001, 0.81685, 0.81685, 0.8169000000000001, 0.81685, 0.81685, 0.81685, 0.81685, 0.81685, 0.81685, 0.81685, 0.81685, 0.81685, 0.81685, 0.8168, 0.8167499999999999, 0.8167499999999999, 0.8167499999999999, 0.8167499999999999, 0.8167499999999999, 0.8167499999999999, 0.8167499999999999, 0.8168, 0.8167499999999999, 0.8167, 0.8167, 0.8167, 0.8167, 0.8167, 0.8167, 0.8167, 0.8167, 0.8167, 0.8167, 0.8167, 0.8167, 0.8167, 0.8167, 0.8167, 0.8166499999999999, 0.8167, 0.8167, 0.8167, 0.8167500000000001, 0.8168000000000001, 0.8168500000000002, 0.8168500000000002, 0.8169000000000001, 0.81695, 0.81695, 0.81695, 0.8169000000000001, 0.8169000000000001, 0.8169000000000001, 0.8169000000000001, 0.8169000000000001, 0.81695, 0.8169000000000001, 0.81685, 0.81685, 0.8168, 0.8167499999999999, 0.8167499999999999, 0.8167499999999999, 0.8167499999999999, 0.8167499999999999, 0.8167499999999999, 0.8167499999999999, 0.8167499999999999, 0.8167499999999999, 0.8167, 0.8167, 0.8166500000000001, 0.8166, 0.81655]\n"
     ]
    }
   ],
   "source": [
    "print(multinomialAccuracy)\n",
    "print(bernoulliAccuracy)\n",
    "\n"
   ]
  },
  {
   "cell_type": "code",
   "execution_count": 33,
   "metadata": {},
   "outputs": [
    {
     "name": "stdout",
     "output_type": "stream",
     "text": [
      "[1. 1. 1. ... 0. 1. 0.]\n",
      "prediction shape is: (10000,)\n"
     ]
    }
   ],
   "source": [
    "model, prediction, accuracy = ClassifyWithMultinomialNB(X_train, Y_train, X_test, alpha=0.01, verbose=0)\n",
    "WritePredictionOut('MultinomialNB', prediction)"
   ]
  },
  {
   "cell_type": "code",
   "execution_count": 36,
   "metadata": {},
   "outputs": [
    {
     "ename": "TypeError",
     "evalue": "ClassifyWithNeuralNetwork() got multiple values for argument 'verbose'",
     "output_type": "error",
     "traceback": [
      "\u001b[1;31m---------------------------------------------------------------------------\u001b[0m",
      "\u001b[1;31mTypeError\u001b[0m                                 Traceback (most recent call last)",
      "\u001b[1;32m<ipython-input-36-02895feed1f4>\u001b[0m in \u001b[0;36m<module>\u001b[1;34m()\u001b[0m\n\u001b[0;32m     93\u001b[0m     \u001b[1;32mreturn\u001b[0m \u001b[0mmodel\u001b[0m\u001b[1;33m,\u001b[0m \u001b[0mprediction\u001b[0m\u001b[1;33m,\u001b[0m \u001b[0mscore\u001b[0m\u001b[1;33m[\u001b[0m\u001b[1;36m1\u001b[0m\u001b[1;33m]\u001b[0m\u001b[1;33m\u001b[0m\u001b[0m\n\u001b[0;32m     94\u001b[0m \u001b[1;33m\u001b[0m\u001b[0m\n\u001b[1;32m---> 95\u001b[1;33m \u001b[0mClassifyWithNeuralNetwork\u001b[0m\u001b[1;33m(\u001b[0m\u001b[0mX_train\u001b[0m\u001b[1;33m,\u001b[0m \u001b[0mY_train\u001b[0m\u001b[1;33m,\u001b[0m \u001b[0mX_test\u001b[0m\u001b[1;33m,\u001b[0m \u001b[1;36m5\u001b[0m\u001b[1;33m,\u001b[0m \u001b[0mverbose\u001b[0m\u001b[1;33m=\u001b[0m\u001b[1;36m1\u001b[0m\u001b[1;33m)\u001b[0m\u001b[1;33m\u001b[0m\u001b[0m\n\u001b[0m",
      "\u001b[1;31mTypeError\u001b[0m: ClassifyWithNeuralNetwork() got multiple values for argument 'verbose'"
     ]
    }
   ],
   "source": [
    "def CrossValidation_NeuralNetwork(X_train, Y_train, X_test, nFold, verbose=0):\n",
    "    kf = KFold(n_splits = nFold)\n",
    "    inds = [ind for ind in kf.split(X_train, Y_train)]\n",
    "        \n",
    "    total_train_acc = []\n",
    "    total_val_acc = []\n",
    "    \n",
    "     # Converting Y values to one hot vector\n",
    "    num_classes = 2\n",
    "    Y = keras.utils.to_categorical(Y_train, num_classes=num_classes)\n",
    "    \n",
    "    # perform 5-fold validation\n",
    "    for i in range(0,5):\n",
    "        traini, vali = inds[i]\n",
    "        model, prediction, accuracy = ClassifyWithNeuralNetwork(X_train[traini], Y_train[traini], X_test)\n",
    "        \n",
    "        # Compute accuracy.\n",
    "        val_acc = model.evaluate(X_train[vali], Y[vali], verbose=verbose)\n",
    "            \n",
    "        total_train_acc = np.append(total_train_acc, accuracy)\n",
    "        total_val_acc = np.append(total_val_acc, val_acc[1])\n",
    "\n",
    "    print(BORDER)\n",
    "    print(\"CROSS VALIDATION: ClassifyWithNeuralNetwork\")\n",
    "    print(BORDER)\n",
    "    print(\"training accuracy\", total_train_acc)\n",
    "    print(\"val accuracy\", total_val_acc)\n",
    "    print(\"average training accuracy\", np.sum(total_train_acc) / 5.)\n",
    "    print(\"average val accuracy\", np.sum(total_val_acc) / 5.)\n",
    "    \n",
    "    return 0\n",
    "\n",
    "\n",
    "def ClassifyWithNeuralNetwork(X_train, Y_train, X_test, verbose=0):\n",
    "    \"\"\"\n",
    "   Function takes training and testing data, and fits using our neural network implementation\n",
    "   \n",
    "   Inputs:\n",
    "       X_train: The training data\n",
    "       Y_train: The training data labels\n",
    "       X_test:  The testing data\n",
    "       \n",
    "   Outputs:\n",
    "       model: passes out the model we trained.\n",
    "       prediction: a nparray with shape (X_test.shape[0], ) containing the predicted labels our model generated\n",
    "       accuracy: training accuracy of model.\n",
    "   \"\"\"\n",
    "    if (verbose == 1):\n",
    "        print('\\n{}\\nNEURAL NETWORK\\n{}\\n'.format(BORDER, BORDER))\n",
    " \n",
    "    # Converting Y values to one hot vector\n",
    "    num_classes = 2\n",
    "    Y_train = keras.utils.to_categorical(Y_train, num_classes=num_classes)\n",
    "   \n",
    "    # Input size\n",
    "    n_train = X_train.shape[0]\n",
    "    n_words = X_train.shape[1]\n",
    "    n_test = Y_train.shape[0]\n",
    "   \n",
    "    # Layer set up.\n",
    "    model = Sequential()\n",
    "   \n",
    "    model.add(Dense(1024, input_shape=(n_words, )))\n",
    "    model.add(Activation('relu'))\n",
    " \n",
    "    model.add(Dense(num_classes))\n",
    "    model.add(Activation('softmax'))\n",
    " \n",
    "    ## Printing a summary of the layers and weights in your model\n",
    "    if (verbose == 1):\n",
    "        model.summary()\n",
    " \n",
    "    ## In the line below we have specified the loss function as 'mse' (Mean Squared Error) because in the above code we did not one-hot encode the labels.\n",
    "    ## In your implementation, since you are one-hot encoding the labels, you should use 'categorical_crossentropy' as your loss.\n",
    "    ## You will likely have the best results with RMS prop or Adam as your optimizer.  In the line below we use Adadelta\n",
    "    model.compile(loss='categorical_crossentropy',optimizer='adam', metrics=['accuracy'])\n",
    " \n",
    "    fit = model.fit(X_train, Y_train, batch_size=512, epochs=2, verbose=verbose, validation_split=0.1)\n",
    "   \n",
    "    ## Printing the accuracy of our model, according to the loss function specified in model.compile above\n",
    "    score = model.evaluate(X_train, Y_train, verbose=0)\n",
    "    if (verbose == 1):\n",
    "        print('Training score:', score[0])\n",
    "        print('Training accuracy:', score[1])\n",
    " \n",
    "    prediction = model.predict(X_test, verbose=verbose)\n",
    " \n",
    "    zeros = prediction[:, 0]\n",
    "    ones  = prediction[:, 1]\n",
    " \n",
    "    prediction = (zeros < ones).astype(int)\n",
    " \n",
    "    return model, prediction, score[1]\n",
    "\n",
    "CrossValidation_NeuralNetwork(X_train, Y_train, X_test, 5, verbose=1)"
   ]
  }
 ],
 "metadata": {
  "kernelspec": {
   "display_name": "Python 3",
   "language": "python",
   "name": "python3"
  },
  "language_info": {
   "codemirror_mode": {
    "name": "ipython",
    "version": 3
   },
   "file_extension": ".py",
   "mimetype": "text/x-python",
   "name": "python",
   "nbconvert_exporter": "python",
   "pygments_lexer": "ipython3",
   "version": "3.6.4"
  }
 },
 "nbformat": 4,
 "nbformat_minor": 2
}
